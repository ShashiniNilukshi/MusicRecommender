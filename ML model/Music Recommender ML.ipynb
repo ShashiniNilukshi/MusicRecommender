{
 "cells": [
  {
   "cell_type": "code",
   "execution_count": 1,
   "id": "f835cdef",
   "metadata": {},
   "outputs": [],
   "source": [
    "import pandas as pd"
   ]
  },
  {
   "cell_type": "code",
   "execution_count": 2,
   "id": "46109a5a",
   "metadata": {},
   "outputs": [],
   "source": [
    "df = pd.read_csv(\"spotify_millsongdata.csv\")"
   ]
  },
  {
   "cell_type": "code",
   "execution_count": 3,
   "id": "58592859",
   "metadata": {},
   "outputs": [
    {
     "name": "stdout",
     "output_type": "stream",
     "text": [
      "             artist                   song  \\\n",
      "0              ABBA  Ahe's My Kind Of Girl   \n",
      "1              ABBA       Andante, Andante   \n",
      "2              ABBA         As Good As New   \n",
      "3              ABBA                   Bang   \n",
      "4              ABBA       Bang-A-Boomerang   \n",
      "...             ...                    ...   \n",
      "57645  Ziggy Marley          Good Old Days   \n",
      "57646  Ziggy Marley          Hand To Mouth   \n",
      "57647          Zwan           Come With Me   \n",
      "57648          Zwan                 Desire   \n",
      "57649          Zwan              Heartsong   \n",
      "\n",
      "                                              link  \\\n",
      "0       /a/abba/ahes+my+kind+of+girl_20598417.html   \n",
      "1            /a/abba/andante+andante_20002708.html   \n",
      "2             /a/abba/as+good+as+new_20003033.html   \n",
      "3                       /a/abba/bang_20598415.html   \n",
      "4           /a/abba/bang+a+boomerang_20002668.html   \n",
      "...                                            ...   \n",
      "57645  /z/ziggy+marley/good+old+days_10198588.html   \n",
      "57646  /z/ziggy+marley/hand+to+mouth_20531167.html   \n",
      "57647           /z/zwan/come+with+me_20148981.html   \n",
      "57648                 /z/zwan/desire_20148986.html   \n",
      "57649              /z/zwan/heartsong_20148991.html   \n",
      "\n",
      "                                                    text  \n",
      "0      Look at her face, it's a wonderful face  \\r\\nA...  \n",
      "1      Take it easy with me, please  \\r\\nTouch me gen...  \n",
      "2      I'll never know why I had to go  \\r\\nWhy I had...  \n",
      "3      Making somebody happy is a question of give an...  \n",
      "4      Making somebody happy is a question of give an...  \n",
      "...                                                  ...  \n",
      "57645  Irie days come on play  \\r\\nLet the angels fly...  \n",
      "57646  Power to the workers  \\r\\nMore power  \\r\\nPowe...  \n",
      "57647  all you need  \\r\\nis something i'll believe  \\...  \n",
      "57648  northern star  \\r\\nam i frightened  \\r\\nwhere ...  \n",
      "57649  come in  \\r\\nmake yourself at home  \\r\\ni'm a ...  \n",
      "\n",
      "[57650 rows x 4 columns]\n"
     ]
    }
   ],
   "source": [
    "print(df)"
   ]
  },
  {
   "cell_type": "code",
   "execution_count": 4,
   "id": "789367d3",
   "metadata": {},
   "outputs": [
    {
     "data": {
      "text/plain": [
       "artist    0\n",
       "song      0\n",
       "link      0\n",
       "text      0\n",
       "dtype: int64"
      ]
     },
     "execution_count": 4,
     "metadata": {},
     "output_type": "execute_result"
    }
   ],
   "source": [
    "df.isnull().sum()"
   ]
  },
  {
   "cell_type": "code",
   "execution_count": 5,
   "id": "f04653cd",
   "metadata": {},
   "outputs": [],
   "source": [
    "df=df.sample(5000).drop('link',axis=1).reset_index(drop=True)"
   ]
  },
  {
   "cell_type": "code",
   "execution_count": 7,
   "id": "2e991437",
   "metadata": {},
   "outputs": [
    {
     "data": {
      "text/plain": [
       "\"It's in every one of us to be wise  \\r\\nFind your heart  \\r\\nAnd open up both your eyes  \\r\\nWe can all know every thing  \\r\\nWithout ever knowing why  \\r\\nIt's in every one of us by and by  \\r\\nIt's in every one of us  \\r\\nFind your heart  \\r\\nAnd open up both your eyes  \\r\\nWe can all know every thing  \\r\\nWithout ever knowing why  \\r\\nIt's in every one of us by and by  \\r\\nIt's in every one of us  \\r\\nI just remembered  \\r\\nIt's like I've been sleeping for years  \\r\\nI'm not awake as I can be  \\r\\nBut my seeing's better  \\r\\nI can see through the tears  \\r\\nI've been realizing that  \\r\\nI bought this ticket  \\r\\nAnd watching only half of the show  \\r\\nBut there's scenery and lights  \\r\\nAnd a cast of thousands  \\r\\nWho all know what I know  \\r\\nAnd it's good that it's so  \\r\\nIt's in every one of us to be wise  \\r\\nFind your heart  \\r\\nAnd open up both your eyes  \\r\\nWe can all know every thing  \\r\\nWithout ever knowing why  \\r\\nIt's in every one of us by and by  \\r\\nIt's in every one of us by and by\\r\\n\\r\\n\""
      ]
     },
     "execution_count": 7,
     "metadata": {},
     "output_type": "execute_result"
    }
   ],
   "source": [
    "df['text'][0]"
   ]
  },
  {
   "cell_type": "code",
   "execution_count": 8,
   "id": "13994671",
   "metadata": {},
   "outputs": [],
   "source": [
    "df['text']=df['text'].str.lower().replace(r'^\\w\\s','').replace(r'\\n','',regex=True)"
   ]
  },
  {
   "cell_type": "code",
   "execution_count": 9,
   "id": "6a2d5cd5",
   "metadata": {},
   "outputs": [],
   "source": [
    "import nltk"
   ]
  },
  {
   "cell_type": "code",
   "execution_count": 11,
   "id": "5358de7c",
   "metadata": {},
   "outputs": [
    {
     "name": "stderr",
     "output_type": "stream",
     "text": [
      "[nltk_data] Downloading package punkt to\n",
      "[nltk_data]     C:\\Users\\94783\\AppData\\Roaming\\nltk_data...\n",
      "[nltk_data]   Package punkt is already up-to-date!\n"
     ]
    }
   ],
   "source": [
    "from nltk.stem import PorterStemmer\n",
    "nltk.download('punkt')\n",
    "stemmer = PorterStemmer()\n"
   ]
  },
  {
   "cell_type": "code",
   "execution_count": 19,
   "id": "3d9bb6e5",
   "metadata": {},
   "outputs": [],
   "source": [
    "def token(txt):\n",
    "    token=nltk.word_tokenize(txt)\n",
    "    a=[stemmer.stem(w) for w in token]\n",
    "    return \" \".join(a)"
   ]
  },
  {
   "cell_type": "code",
   "execution_count": 20,
   "id": "f9055af3",
   "metadata": {},
   "outputs": [
    {
     "data": {
      "text/plain": [
       "0       it 's in everi one of us to be wise find your ...\n",
       "1       believ in the supernatur believ in the superna...\n",
       "2       everybodi know that i 'm just a joe that like ...\n",
       "3       they pave paradis and put up a park lot with a...\n",
       "4       the other day i came across someon i knew and ...\n",
       "                              ...                        \n",
       "4995    half moon , night time sky , seven star , heav...\n",
       "4996    i climb the mountain top , i saw the bottom dr...\n",
       "4997    someth 's goin ' on i do n't know what it is b...\n",
       "4998    they say you came from heaven but i know that ...\n",
       "4999    i use to bite my tongu and hold my breath scar...\n",
       "Name: text, Length: 5000, dtype: object"
      ]
     },
     "execution_count": 20,
     "metadata": {},
     "output_type": "execute_result"
    }
   ],
   "source": [
    "df['text'].apply(lambda x:token(x))"
   ]
  },
  {
   "cell_type": "code",
   "execution_count": 21,
   "id": "f812d8bd",
   "metadata": {},
   "outputs": [],
   "source": [
    "from sklearn.feature_extraction.text import TfidfVectorizer\n",
    "from sklearn.metrics.pairwise import cosine_similarity"
   ]
  },
  {
   "cell_type": "code",
   "execution_count": 22,
   "id": "206972ac",
   "metadata": {},
   "outputs": [],
   "source": [
    "tfid=TfidfVectorizer(analyzer='word',stop_words='english')"
   ]
  },
  {
   "cell_type": "code",
   "execution_count": 23,
   "id": "fea75eed",
   "metadata": {},
   "outputs": [],
   "source": [
    "matrix=tfid.fit_transform(df['text'])"
   ]
  },
  {
   "cell_type": "code",
   "execution_count": 36,
   "id": "b4222b0e",
   "metadata": {},
   "outputs": [
    {
     "data": {
      "text/plain": [
       "array([1.        , 0.00553816, 0.03188874, ..., 0.04137105, 0.05366043,\n",
       "       0.00204358])"
      ]
     },
     "execution_count": 36,
     "metadata": {},
     "output_type": "execute_result"
    }
   ],
   "source": [
    "similar=cosine_similarity(matrix)\n",
    "similar[0]"
   ]
  },
  {
   "cell_type": "code",
   "execution_count": 42,
   "id": "bb5bdb6b",
   "metadata": {},
   "outputs": [
    {
     "data": {
      "text/html": [
       "<div>\n",
       "<style scoped>\n",
       "    .dataframe tbody tr th:only-of-type {\n",
       "        vertical-align: middle;\n",
       "    }\n",
       "\n",
       "    .dataframe tbody tr th {\n",
       "        vertical-align: top;\n",
       "    }\n",
       "\n",
       "    .dataframe thead th {\n",
       "        text-align: right;\n",
       "    }\n",
       "</style>\n",
       "<table border=\"1\" class=\"dataframe\">\n",
       "  <thead>\n",
       "    <tr style=\"text-align: right;\">\n",
       "      <th></th>\n",
       "      <th>artist</th>\n",
       "      <th>song</th>\n",
       "      <th>text</th>\n",
       "    </tr>\n",
       "  </thead>\n",
       "  <tbody>\n",
       "    <tr>\n",
       "      <th>2</th>\n",
       "      <td>James Taylor</td>\n",
       "      <td>Nobody But You</td>\n",
       "      <td>everybody knows that i'm just a joe that likes...</td>\n",
       "    </tr>\n",
       "  </tbody>\n",
       "</table>\n",
       "</div>"
      ],
      "text/plain": [
       "         artist            song  \\\n",
       "2  James Taylor  Nobody But You   \n",
       "\n",
       "                                                text  \n",
       "2  everybody knows that i'm just a joe that likes...  "
      ]
     },
     "execution_count": 42,
     "metadata": {},
     "output_type": "execute_result"
    }
   ],
   "source": [
    "df[df['song'] == 'Nobody But You']\n"
   ]
  },
  {
   "cell_type": "code",
   "execution_count": 38,
   "id": "6567f462",
   "metadata": {},
   "outputs": [
    {
     "data": {
      "text/html": [
       "<div>\n",
       "<style scoped>\n",
       "    .dataframe tbody tr th:only-of-type {\n",
       "        vertical-align: middle;\n",
       "    }\n",
       "\n",
       "    .dataframe tbody tr th {\n",
       "        vertical-align: top;\n",
       "    }\n",
       "\n",
       "    .dataframe thead th {\n",
       "        text-align: right;\n",
       "    }\n",
       "</style>\n",
       "<table border=\"1\" class=\"dataframe\">\n",
       "  <thead>\n",
       "    <tr style=\"text-align: right;\">\n",
       "      <th></th>\n",
       "      <th>artist</th>\n",
       "      <th>song</th>\n",
       "      <th>text</th>\n",
       "    </tr>\n",
       "  </thead>\n",
       "  <tbody>\n",
       "    <tr>\n",
       "      <th>0</th>\n",
       "      <td>Cliff Richard</td>\n",
       "      <td>It's In Every One Of Us</td>\n",
       "      <td>it's in every one of us to be wise  \\rfind you...</td>\n",
       "    </tr>\n",
       "    <tr>\n",
       "      <th>1</th>\n",
       "      <td>Air Supply</td>\n",
       "      <td>Believe In The Supernatural</td>\n",
       "      <td>believe in the supernatural  \\rbelieve in the ...</td>\n",
       "    </tr>\n",
       "    <tr>\n",
       "      <th>2</th>\n",
       "      <td>James Taylor</td>\n",
       "      <td>Nobody But You</td>\n",
       "      <td>everybody knows that i'm just a joe that likes...</td>\n",
       "    </tr>\n",
       "    <tr>\n",
       "      <th>3</th>\n",
       "      <td>Amy Grant</td>\n",
       "      <td>Big Yellow Taxi</td>\n",
       "      <td>they paved paradise and put up a parking lot  ...</td>\n",
       "    </tr>\n",
       "    <tr>\n",
       "      <th>4</th>\n",
       "      <td>New Order</td>\n",
       "      <td>Weirdo</td>\n",
       "      <td>the other day i came across  \\rsomeone i knew ...</td>\n",
       "    </tr>\n",
       "    <tr>\n",
       "      <th>...</th>\n",
       "      <td>...</td>\n",
       "      <td>...</td>\n",
       "      <td>...</td>\n",
       "    </tr>\n",
       "    <tr>\n",
       "      <th>4995</th>\n",
       "      <td>Janis Joplin</td>\n",
       "      <td>Half Moon</td>\n",
       "      <td>half moon, night time sky,  \\rseven stars, hea...</td>\n",
       "    </tr>\n",
       "    <tr>\n",
       "      <th>4996</th>\n",
       "      <td>Lady Gaga</td>\n",
       "      <td>Ink</td>\n",
       "      <td>i climb the mountain top, i saw the bottom dro...</td>\n",
       "    </tr>\n",
       "    <tr>\n",
       "      <th>4997</th>\n",
       "      <td>Yes</td>\n",
       "      <td>Abilene</td>\n",
       "      <td>something's goin' on  \\ri don't know what it i...</td>\n",
       "    </tr>\n",
       "    <tr>\n",
       "      <th>4998</th>\n",
       "      <td>Black Sabbath</td>\n",
       "      <td>Rusty Angels</td>\n",
       "      <td>they say you came from heaven but i know that'...</td>\n",
       "    </tr>\n",
       "    <tr>\n",
       "      <th>4999</th>\n",
       "      <td>Katy Perry</td>\n",
       "      <td>Roar</td>\n",
       "      <td>i used to bite my tongue and hold my breath  \\...</td>\n",
       "    </tr>\n",
       "  </tbody>\n",
       "</table>\n",
       "<p>5000 rows × 3 columns</p>\n",
       "</div>"
      ],
      "text/plain": [
       "             artist                         song  \\\n",
       "0     Cliff Richard      It's In Every One Of Us   \n",
       "1        Air Supply  Believe In The Supernatural   \n",
       "2      James Taylor               Nobody But You   \n",
       "3         Amy Grant              Big Yellow Taxi   \n",
       "4         New Order                       Weirdo   \n",
       "...             ...                          ...   \n",
       "4995   Janis Joplin                    Half Moon   \n",
       "4996      Lady Gaga                          Ink   \n",
       "4997            Yes                      Abilene   \n",
       "4998  Black Sabbath                 Rusty Angels   \n",
       "4999     Katy Perry                         Roar   \n",
       "\n",
       "                                                   text  \n",
       "0     it's in every one of us to be wise  \\rfind you...  \n",
       "1     believe in the supernatural  \\rbelieve in the ...  \n",
       "2     everybody knows that i'm just a joe that likes...  \n",
       "3     they paved paradise and put up a parking lot  ...  \n",
       "4     the other day i came across  \\rsomeone i knew ...  \n",
       "...                                                 ...  \n",
       "4995  half moon, night time sky,  \\rseven stars, hea...  \n",
       "4996  i climb the mountain top, i saw the bottom dro...  \n",
       "4997  something's goin' on  \\ri don't know what it i...  \n",
       "4998  they say you came from heaven but i know that'...  \n",
       "4999  i used to bite my tongue and hold my breath  \\...  \n",
       "\n",
       "[5000 rows x 3 columns]"
      ]
     },
     "execution_count": 38,
     "metadata": {},
     "output_type": "execute_result"
    }
   ],
   "source": [
    "df\n"
   ]
  },
  {
   "cell_type": "code",
   "execution_count": 61,
   "id": "31f283b8",
   "metadata": {},
   "outputs": [],
   "source": [
    "from sklearn.metrics.pairwise import cosine_similarity\n",
    "\n",
    "def recommender(Song_name):\n",
    "    idx = df[df['song'] == Song_name].index[0]\n",
    "    distances = sorted(list(enumerate(similar[idx])), reverse=True, key=lambda x: x[1])\n",
    "    songs = []\n",
    "    for s_id in range(1, 6):\n",
    "        songs.append(df.iloc[distances[s_id][0]].song)\n",
    "    return songs\n",
    "\n",
    "\n",
    "   "
   ]
  },
  {
   "cell_type": "code",
   "execution_count": 62,
   "id": "007da08c",
   "metadata": {},
   "outputs": [
    {
     "data": {
      "text/plain": [
       "['When We Stand Together',\n",
       " 'Yeah Yeah',\n",
       " 'Fantasy Man',\n",
       " 'Slicker Drips',\n",
       " 'Louie Louie']"
      ]
     },
     "execution_count": 62,
     "metadata": {},
     "output_type": "execute_result"
    }
   ],
   "source": [
    "recommender(\"Half Moon\")"
   ]
  },
  {
   "cell_type": "code",
   "execution_count": 71,
   "id": "8364b68a",
   "metadata": {},
   "outputs": [],
   "source": [
    "import pickle\n",
    "pickle.dump(similar,open(\"Similarity\",\"wb\"))\n",
    "pickle.dump(df,open(\"df\",\"wb\"))\n",
    "\n",
    "\n"
   ]
  },
  {
   "cell_type": "code",
   "execution_count": null,
   "id": "90c232be",
   "metadata": {},
   "outputs": [],
   "source": []
  },
  {
   "cell_type": "code",
   "execution_count": null,
   "id": "3d6b6c8d",
   "metadata": {},
   "outputs": [],
   "source": []
  }
 ],
 "metadata": {
  "kernelspec": {
   "display_name": "Python 3 (ipykernel)",
   "language": "python",
   "name": "python3"
  },
  "language_info": {
   "codemirror_mode": {
    "name": "ipython",
    "version": 3
   },
   "file_extension": ".py",
   "mimetype": "text/x-python",
   "name": "python",
   "nbconvert_exporter": "python",
   "pygments_lexer": "ipython3",
   "version": "3.11.5"
  }
 },
 "nbformat": 4,
 "nbformat_minor": 5
}
